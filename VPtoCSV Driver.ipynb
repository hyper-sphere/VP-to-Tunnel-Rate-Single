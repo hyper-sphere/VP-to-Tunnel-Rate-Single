{
 "cells": [
  {
   "cell_type": "code",
   "execution_count": 1,
   "id": "9974d82c",
   "metadata": {
    "scrolled": false
   },
   "outputs": [],
   "source": [
    "from AppModules.Functions.Basic_Functions import *\n",
    "from AppModules.Data_Processing.Data_Functions import *\n",
    "from AppModules.File_Handling.VP_Handling import *\n",
    "from AppModules.File_Handling.CSV_Handling import *\n",
    "\n",
    "import AppModules.Data_Processing.Poly_Viewer as Poly\n",
    "import AppModules.Data_Processing.Smooth_Viewer as Smooth\n",
    "import AppModules.Data_Processing.Baseline as Baseline\n",
    "import AppModules.Data_Processing.Plotting_Processed_Data as Processed\n",
    "\n",
    "import os\n",
    "import numpy as np\n",
    "import matplotlib.pyplot as plt\n",
    "from scipy.signal import savgol_filter as savgol\n",
    "import pandas as pd\n",
    "\n",
    "import gc\n",
    "\n",
    "# Constants\n",
    "HOME_FOLDER = os.getcwd()\n",
    "\n",
    "VP_FOLDER  = 'VP Data'\n",
    "CSV_FOLDER = 'VP Data (CSV)'\n",
    "\n",
    "\n",
    "TUNNEL_COLOR = 'blue'\n",
    "DISS_COLOR, FREQ_COLOR = 'k', 'r'\n",
    "COLORS = (DISS_COLOR, FREQ_COLOR)\n",
    "\n",
    "\n",
    "WOO, HAT = '\\U0001F389', '\\U0001F973'"
   ]
  },
  {
   "cell_type": "markdown",
   "id": "df8f15b1",
   "metadata": {},
   "source": [
    "#### Finding and Grouping \".vpdata\" Files -- Necessary"
   ]
  },
  {
   "cell_type": "code",
   "execution_count": 2,
   "id": "30b0bd45",
   "metadata": {},
   "outputs": [
    {
     "name": "stdout",
     "output_type": "stream",
     "text": [
      "Chosen Data Folder: C:/Users/Work/Downloads/240117 Binod Data/Binod Data (1)\n",
      "Unsorted VP Files Found: Attempting to Move [9] Files\n"
     ]
    },
    {
     "name": "stderr",
     "output_type": "stream",
     "text": [
      "100%|██████████████████████████████████████████████████████████████████████████████████| 9/9 [00:00<00:00, 1955.49it/s]"
     ]
    },
    {
     "name": "stdout",
     "output_type": "stream",
     "text": [
      "VP Files found [9]\n",
      "\n",
      "Executed: 2024/01/20 03:46:42 PM\n"
     ]
    },
    {
     "name": "stderr",
     "output_type": "stream",
     "text": [
      "\n"
     ]
    }
   ],
   "source": [
    "DATA_FOLDER = GetFolder() \n",
    "print(f'Chosen Data Folder: {DATA_FOLDER}')\n",
    "os.chdir(DATA_FOLDER)\n",
    "\n",
    "CreateFolders(VP_FOLDER, CSV_FOLDER)\n",
    "Group_VP(VP_FOLDER)\n",
    "\n",
    "print(f'VP Files found [{len(os.listdir(VP_FOLDER))}]')\n",
    "\n",
    "os.chdir(HOME_FOLDER)\n",
    "timestamp()"
   ]
  },
  {
   "cell_type": "markdown",
   "id": "4774b5e1",
   "metadata": {},
   "source": [
    "#### Choosing a \".vpdata\" file to extract data into one/two CSV file(s) for further processing"
   ]
  },
  {
   "cell_type": "code",
   "execution_count": 5,
   "id": "8d2e3eb3",
   "metadata": {},
   "outputs": [
    {
     "name": "stdout",
     "output_type": "stream",
     "text": [
      "Chosen VP File: Pt dot probe000-VP027-VP 1.vpdata\n",
      "CSV File(s) Created --> Move on to Data Processing\n",
      "\n",
      "Executed: 2024/01/20 03:49:00 PM\n"
     ]
    }
   ],
   "source": [
    "FILE_PATH = GetFile(WindowName='Select .vpdata File')\n",
    "DATA_FOLDER = os.path.dirname(os.path.dirname(FILE_PATH))\n",
    "os.chdir(DATA_FOLDER)\n",
    "\n",
    "FILE = os.path.basename(FILE_PATH)\n",
    "print(f'Chosen VP File: {FILE}')\n",
    "if Check_CSV(CSV_FOLDER, FILE): \n",
    "    print('CSV File(s) Already Created --> !! CSV File not Created')\n",
    "    \n",
    "else: \n",
    "    Make_CSV(f'{VP_FOLDER}{os.path.sep}{FILE}', CSV_FOLDER)\n",
    "    print(f'CSV File(s) Created --> Move on to Data Processing')\n",
    "    \n",
    "os.chdir(HOME_FOLDER)\n",
    "timestamp()"
   ]
  },
  {
   "cell_type": "markdown",
   "id": "279d648f",
   "metadata": {},
   "source": [
    "# █████  DATA PROCESSING: START HERE  █████"
   ]
  },
  {
   "cell_type": "markdown",
   "id": "dff36a98",
   "metadata": {},
   "source": [
    "## ►► Choosing a \".csv\" file to extract data and process"
   ]
  },
  {
   "cell_type": "code",
   "execution_count": 6,
   "id": "7c04ab91",
   "metadata": {},
   "outputs": [
    {
     "name": "stdout",
     "output_type": "stream",
     "text": [
      "Chosen CSV File: Pt dot probe000-VP027-VP 1_Trace.csv \n",
      "\n",
      "--> C:/Users/Work/Downloads/240117 Binod Data/Binod Data (1)/VP Data (CSV)/Pt dot probe000-VP027-VP 1_Trace.csv\n",
      "\n",
      "Headers Found in File:\n",
      "\n",
      "\t- Bias (V)\n",
      "\t- ADC1-SP (V)\n",
      "\t- ADC2-Mx2 (V)\n",
      "\t- ADC4 (V)\n",
      "\n",
      "Executed: 2024/01/20 03:49:14 PM\n"
     ]
    }
   ],
   "source": [
    "FILE_PATH = GetFile()\n",
    "DATA_FOLDER = os.path.dirname(os.path.dirname(FILE_PATH))\n",
    "os.chdir(DATA_FOLDER)\n",
    "\n",
    "FILE = os.path.basename(FILE_PATH)\n",
    "print(f'Chosen CSV File: {FILE} \\n')\n",
    "print(f'--> {FILE_PATH}')\n",
    "\n",
    "GetHeaders_CSV(FILE_PATH, LIST=True)\n",
    "\n",
    "##################################\n",
    "\n",
    "%matplotlib qt\n",
    "\n",
    "plt.close('all')\n",
    "gc.collect()\n",
    "\n",
    "timestamp()"
   ]
  },
  {
   "cell_type": "markdown",
   "id": "bfa66c12",
   "metadata": {},
   "source": [
    "## ► Removing polynomial background from data (and saving in the \".csv\" file)"
   ]
  },
  {
   "cell_type": "code",
   "execution_count": 7,
   "id": "19bdad84",
   "metadata": {},
   "outputs": [
    {
     "name": "stdout",
     "output_type": "stream",
     "text": [
      "Polynomial Degrees Used: {'diss': 4, 'freq': 4}\n",
      "\n",
      "Executed: 2024/01/20 03:49:36 PM\n"
     ]
    }
   ],
   "source": [
    "# Create plots for visualizing and choosing degrees\n",
    "Poly.PolyFit(FILE_PATH, COLORS)"
   ]
  },
  {
   "cell_type": "code",
   "execution_count": 8,
   "id": "6142cdc0",
   "metadata": {},
   "outputs": [
    {
     "name": "stdout",
     "output_type": "stream",
     "text": [
      "Polynomial Background Removed - Degrees Used: {'diss': 4, 'freq': 4}\n",
      "\n",
      "Executed: 2024/01/20 03:49:38 PM\n"
     ]
    }
   ],
   "source": [
    "# Removing Background \n",
    "plt.close('all')\n",
    "gc.collect()\n",
    "\n",
    "Poly.RemoveBackground(FILE_PATH)\n",
    "print('Polynomial Background Removed - Degrees Used:', Poly.DEG)\n",
    "\n",
    "timestamp()"
   ]
  },
  {
   "cell_type": "markdown",
   "id": "19b56b19",
   "metadata": {},
   "source": [
    "## ► Smoothing data and processing data (and saving in the \".csv\" file)"
   ]
  },
  {
   "cell_type": "code",
   "execution_count": 9,
   "id": "1e035480",
   "metadata": {
    "scrolled": false
   },
   "outputs": [
    {
     "name": "stdout",
     "output_type": "stream",
     "text": [
      "Smoothing Windows Used: {'diss': 35, 'freq': 48}\n",
      "\n",
      "Executed: 2024/01/20 03:50:06 PM\n"
     ]
    }
   ],
   "source": [
    "# Create plots for visualizing and choosing smoothing parameters\n",
    "Smooth.SmoothFit(FILE_PATH, COLORS)"
   ]
  },
  {
   "cell_type": "code",
   "execution_count": 10,
   "id": "c8356236",
   "metadata": {},
   "outputs": [
    {
     "name": "stdout",
     "output_type": "stream",
     "text": [
      "Data Smoothed - Parameters Used: {'diss': 35, 'freq': 48}\n",
      "\n",
      "Executed: 2024/01/20 03:50:08 PM\n"
     ]
    }
   ],
   "source": [
    "# Smoothing Data \n",
    "plt.close('all')\n",
    "gc.collect()\n",
    "\n",
    "Smooth.SmoothData(FILE_PATH)\n",
    "print('Data Smoothed - Parameters Used:', Smooth.W)\n",
    "\n",
    "timestamp()"
   ]
  },
  {
   "cell_type": "code",
   "execution_count": 12,
   "id": "b1d1d32e",
   "metadata": {},
   "outputs": [
    {
     "name": "stdout",
     "output_type": "stream",
     "text": [
      "Baseline Plotted\n",
      "\n",
      "Executed: 2024/01/20 03:50:20 PM\n"
     ]
    }
   ],
   "source": [
    "# Create plots for visualizing and removing baseline\n",
    "dissL, dissP, dissNiter = 20000000, 0.000005, 100  # Follow shape\n",
    "freqL, freqP, freqNiter = 30000000, 0.00005, 100\n",
    "DISS_PARAMS, FREQ_PARAMS  = (dissL, dissP, dissNiter), (freqL, freqP, freqNiter)\n",
    "\n",
    "CORRECT_BASELINE = False\n",
    "\n",
    "baseDISS, baseFREQ = Baseline.BaselineFit(DISS_PARAMS, FREQ_PARAMS, FILE_PATH, COLORS, CORRECT_BASELINE)\n",
    "\n",
    "print('Baseline Plotted')\n",
    "timestamp()"
   ]
  },
  {
   "cell_type": "code",
   "execution_count": 13,
   "id": "63d40a47",
   "metadata": {},
   "outputs": [
    {
     "name": "stdout",
     "output_type": "stream",
     "text": [
      "No Baseline Removed\n",
      "\n",
      "Executed: 2024/01/20 03:50:29 PM\n"
     ]
    }
   ],
   "source": [
    "# Removing Baseline \n",
    "plt.close('all')\n",
    "gc.collect()\n",
    "\n",
    "if(CORRECT_BASELINE): \n",
    "    Baseline.RemoveBaseline(DISS_PARAMS, FREQ_PARAMS, FILE_PATH)\n",
    "    print('Data Baseline Removed | Parameters Used:\\n\\n\\tdissL, dissP, dissNiter =', DISS_PARAMS, \n",
    "                                                    '\\n\\tfreqL, freqP, freqNiter =', FREQ_PARAMS )\n",
    "\n",
    "else: print('No Baseline Removed')\n",
    "    \n",
    "timestamp()"
   ]
  },
  {
   "cell_type": "markdown",
   "id": "1976c935",
   "metadata": {},
   "source": [
    "## ► Plotting processed data"
   ]
  },
  {
   "cell_type": "code",
   "execution_count": 14,
   "id": "0dac03f2",
   "metadata": {},
   "outputs": [
    {
     "name": "stdout",
     "output_type": "stream",
     "text": [
      "Plotting processed data for: Pt dot probe000-VP027-VP 1_Trace.csv\n",
      "Data Plotted! 🎉🥳🎉\n",
      "\n",
      "Executed: 2024/01/20 03:50:31 PM\n"
     ]
    }
   ],
   "source": [
    "# Plotting data after processing, mainly for visualizing and publishing\n",
    "df = pd.read_csv(FILE_PATH)\n",
    "BIAS, DISS, FREQ = Processed.GetData(df)\n",
    "\n",
    "# Unit Conversion of Data\n",
    "freqConvert = 100                # [Hz/V]\n",
    "FREQ        = -freqConvert*FREQ  # [Hz/V]*[V] = [Hz]\n",
    "\n",
    "f0    = 160000       # [Hz]\n",
    "Q     = 100000       # []\n",
    "omega = (2*np.pi*f0) # [Hz]/[] = [Hz]\n",
    "\n",
    "DEG      = 4  # Fitting original data, creating polynomial, evaluating at BIAS, and finding minimum\n",
    "diss_min = min( np.poly1d( np.polyfit(df['Bias (V)'], df['ADC4 (V)'], deg=DEG ) )(BIAS) ) \n",
    "DISS     = omega/Q*(DISS/diss_min) # [Hz]*([]*[V]/[V]) = [Hz]\n",
    "\n",
    "\n",
    "# Final Processing\n",
    "a, b = 71, 2 \n",
    "DISS, FREQ = savgol(DISS, a, b), savgol(FREQ, a, b)\n",
    "Processed.NewRange(BIAS, DISS, FREQ, left=-9, right=10)\n",
    "\n",
    "    \n",
    "# Plots  \n",
    "print(f'Plotting processed data for: {FILE}')\n",
    "fig, (axDISS, axFREQ) = plt.subplots(2, figsize= (2, 1), sharex=True)\n",
    "Processed.PlotSetup( (fig, axDISS, axFREQ, FILE, FREQ_COLOR) )\n",
    "\n",
    "lw = 2\n",
    "axDISS.plot(BIAS, DISS, label='Diss.', color= DISS_COLOR, linewidth=lw )\n",
    "axFREQ.plot(BIAS, FREQ, label='Freq.', color= FREQ_COLOR, linewidth=lw )\n",
    "\n",
    "\n",
    "\n",
    "#axDISS.legend(loc='upper left')\n",
    "#axFREQ.legend(loc='lower left')\n",
    "\n",
    "plt.show()\n",
    "\n",
    "print( f'Data Plotted! {WOO}{HAT}{WOO}')\n",
    "timestamp()"
   ]
  },
  {
   "cell_type": "code",
   "execution_count": null,
   "id": "9e0d3daa",
   "metadata": {},
   "outputs": [],
   "source": []
  }
 ],
 "metadata": {
  "kernelspec": {
   "display_name": "Python 3 (ipykernel)",
   "language": "python",
   "name": "python3"
  },
  "language_info": {
   "codemirror_mode": {
    "name": "ipython",
    "version": 3
   },
   "file_extension": ".py",
   "mimetype": "text/x-python",
   "name": "python",
   "nbconvert_exporter": "python",
   "pygments_lexer": "ipython3",
   "version": "3.11.5"
  }
 },
 "nbformat": 4,
 "nbformat_minor": 5
}
